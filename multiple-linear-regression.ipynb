{
 "cells": [
  {
   "cell_type": "code",
   "execution_count": 93,
   "metadata": {},
   "outputs": [],
   "source": [
    "# Imports\n",
    "import pandas as pd\n",
    "from sklearn.model_selection import train_test_split\n",
    "from sklearn.linear_model import LinearRegression\n",
    "from sklearn.metrics import r2_score\n",
    "import matplotlib.pyplot as plt\n",
    "pd.options.mode.chained_assignment = None\n",
    "\n",
    "# Get data\n",
    "data = pd.read_csv('data/Cars93.csv')"
   ]
  },
  {
   "cell_type": "code",
   "execution_count": 94,
   "metadata": {},
   "outputs": [],
   "source": [
    "# Drop any column that is categorical or numeric\n",
    "clean_data = data.copy()\n",
    "clean_data = clean_data.drop(columns=['Model', 'Make'])\n",
    "\n",
    "# Drop all na values\n",
    "rows_to_remove = []\n",
    "for i in range(len(clean_data)):\n",
    "    if clean_data.iloc[i].isna().sum() > 0:\n",
    "        rows_to_remove.append(i)\n",
    "clean_data = clean_data.drop(index=rows_to_remove)\n",
    "\n",
    "# Generate dummy variables for categorical features\n",
    "categorical_cols = ['Manufacturer', 'Type', 'AirBags', 'DriveTrain', 'Cylinders', 'Man.trans.avail', 'Origin']\n",
    "for col in categorical_cols:\n",
    "    this_dummy = pd.get_dummies(clean_data[col], drop_first=True)\n",
    "    clean_data = clean_data.drop(columns=[col])\n",
    "    clean_data = pd.concat([clean_data, this_dummy], axis=1)\n"
   ]
  },
  {
   "cell_type": "code",
   "execution_count": 95,
   "metadata": {},
   "outputs": [],
   "source": [
    "# Make target MPG.highway\n",
    "X = clean_data.copy().drop(columns='MPG.highway')\n",
    "y = clean_data['MPG.highway'].copy()\n",
    "\n",
    "# Get split\n",
    "X_train, X_test, y_train, y_test = train_test_split(X, y, test_size=0.25, random_state=0)\n",
    "\n",
    "# Form linear regression\n",
    "reg = LinearRegression().fit(X_train, y_train)\n",
    "\n",
    "# Predict values\n",
    "prediction = reg.predict(X_test)\n",
    "\n",
    "# Get residuals\n",
    "residuals = y_test - reg.predict(X_test)"
   ]
  },
  {
   "cell_type": "code",
   "execution_count": 100,
   "metadata": {},
   "outputs": [
    {
     "name": "stdout",
     "output_type": "stream",
     "text": [
      "Coefficient of determination: -22.497414580238377\n"
     ]
    },
    {
     "data": {
      "image/png": "[encoded data removed]",
      "text/plain": [
       "<Figure size 432x288 with 1 Axes>"
      ]
     },
     "metadata": {
      "needs_background": "light"
     },
     "output_type": "display_data"
    }
   ],
   "source": [
    "# Create graphic comparing actual and predicted values\n",
    "fig1, ax1 = plt.subplots()\n",
    "ax1.scatter(y_test, prediction)\n",
    "ax1.set_xlabel('Actual Value')\n",
    "ax1.set_ylabel('Predicted Value')\n",
    "ax1.set_title('Linear Regression Predicted VS Actual Values')\n",
    "print(f'Coefficient of determination: {reg.score(X_test, y_test)}')"
   ]
  },
  {
   "cell_type": "code",
   "execution_count": null,
   "metadata": {},
   "outputs": [
    {
     "data": {
      "text/plain": [
       "Text(0.5, 1.0, 'Linear Regression Predicted VS Residuals')"
      ]
     },
     "execution_count": 82,
     "metadata": {},
     "output_type": "execute_result"
    },
    {
     "data": {
      "image/png": "[encoded data removed]",
      "text/plain": [
       "<Figure size 432x288 with 1 Axes>"
      ]
     },
     "metadata": {
      "needs_background": "light"
     },
     "output_type": "display_data"
    }
   ],
   "source": [
    "fig2, ax2 = plt.subplots()\n",
    "ax2.scatter(prediction, residuals)\n",
    "ax2.set_xlabel('Predicted Value')\n",
    "ax2.set_ylabel('Residual Value')\n",
    "ax2.set_title('Linear Regression Predicted VS Residuals')"
   ]
  },
  {
   "cell_type": "code",
   "execution_count": null,
   "metadata": {},
   "outputs": [
    {
     "name": "stdout",
     "output_type": "stream",
     "text": [
      "y=\n",
      "  -2.0805505775389417 * x_0\n",
      "  +10.166006897192664 * x_1\n",
      "  -20.95240206564508 * x_2\n",
      "  +10.176840256791277 * x_3\n",
      "  +1.3225992230347052 * x_4\n",
      "  +6.599174474981817 * x_5\n",
      "  -0.16534351943271314 * x_6\n",
      "  +0.0080170257176167 * x_7\n",
      "  -0.0029594263330455783 * x_8\n",
      "  -0.350997571253139 * x_9\n",
      "  +4.866763178215351 * x_10\n",
      "  +0.14049974839300236 * x_11\n",
      "  +0.6916460213275415 * x_12\n",
      "  -1.7041858729794643 * x_13\n",
      "  +2.168350384966663 * x_14\n",
      "  -1.1418456073399192 * x_15\n",
      "  +0.04554451735018311 * x_16\n",
      "  +0.00673292763062755 * x_17\n",
      "  +11.036265592179655 * x_18\n",
      "  +28.872439633257816 * x_19\n",
      "  -60.423488681093886 * x_20\n",
      "  -48.73295575462559 * x_21\n",
      "  -41.851776123074025 * x_22\n",
      "  -40.75412011867709 * x_23\n",
      "  -33.508112762592674 * x_24\n",
      "  -20.689283872353734 * x_25\n",
      "  -16.54220899566856 * x_26\n",
      "  +6.258799904235918 * x_27\n",
      "  +83.61050230976146 * x_28\n",
      "  +82.88827742913251 * x_29\n",
      "  +92.89420937577187 * x_30\n",
      "  -6.944933517161189e-09 * x_31\n",
      "  +116.21302970564335 * x_32\n",
      "  +31.378115124749204 * x_33\n",
      "  +121.05139051348075 * x_34\n",
      "  +151.86930664079077 * x_35\n",
      "  +46.277606997978275 * x_36\n",
      "  +120.62814700153405 * x_37\n",
      "  +133.7350881619677 * x_38\n",
      "  +74.93538483639786 * x_39\n",
      "  1.8878338448047316e-08 * x_40\n",
      "  +82.98337049904232 * x_41\n",
      "  +177.50037641762455 * x_42\n",
      "  +88.90633114374018 * x_43\n",
      "  +149.37692963243683 * x_44\n",
      "  +172.38345757519375 * x_45\n",
      "  +185.14807106083254 * x_46\n",
      "  +205.6987518089494 * x_47\n",
      "  +207.06559885936753 * x_48\n",
      "  +1.4547521197377193 * x_49\n",
      "  +4.132047971562124 * x_50\n",
      "  +6.594396432854261 * x_51\n",
      "  +9.624453289081085 * x_52\n",
      "  -6.4826373386060325 * x_53\n",
      "  -5.066814348781769 * x_54\n",
      "  -20.335011986236196 * x_55\n",
      "  -28.580674318081737 * x_56\n",
      "  +2.6589645450920045 * x_57\n",
      "  -6.840007048120945 * x_58\n",
      "  +10.930583563604374 * x_59\n",
      "  +17.625741685687448 * x_60\n",
      "  +5.616479113167131 * x_61\n",
      "  -68.23766199314667 * x_62\n",
      "  +-9.138588781705817\n"
     ]
    }
   ],
   "source": [
    "print('y=')\n",
    "i = 0\n",
    "for coeff in reg.coef_:\n",
    "    if ('-' in str(coeff)):\n",
    "        print(f'  {coeff} * x_{i}')\n",
    "    else:\n",
    "        print(f'  +{coeff} * x_{i}')\n",
    "    i += 1\n",
    "print(f'  +{reg.intercept_}')"
   ]
  },
  {
   "cell_type": "code",
   "execution_count": null,
   "metadata": {},
   "outputs": [],
   "source": []
  }
 ],
 "metadata": {
  "kernelspec": {
   "display_name": "Python 3.9.7 64-bit",
   "language": "python",
   "name": "python3"
  },
  "language_info": {
   "codemirror_mode": {
    "name": "ipython",
    "version": 3
   },
   "file_extension": ".py",
   "mimetype": "text/x-python",
   "name": "python",
   "nbconvert_exporter": "python",
   "pygments_lexer": "ipython3",
   "version": "3.9.7"
  },
  "orig_nbformat": 4,
  "vscode": {
   "interpreter": {
    "hash": "aee8b7b246df8f9039afb4144a1f6fd8d2ca17a180786b69acc140d282b71a49"
   }
  }
 },
 "nbformat": 4,
 "nbformat_minor": 2
}
