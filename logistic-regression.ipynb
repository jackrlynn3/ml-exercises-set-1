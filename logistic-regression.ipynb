{
 "cells": [
  {
   "cell_type": "code",
   "execution_count": 46,
   "metadata": {},
   "outputs": [],
   "source": [
    "# Imports\n",
    "import pandas as pd\n",
    "from sklearn.model_selection import train_test_split\n",
    "from sklearn.linear_model import LogisticRegressionCV\n",
    "from sklearn.metrics import confusion_matrix\n",
    "from sklearn.metrics import matthews_corrcoef\n",
    "import matplotlib.pyplot as plt\n",
    "pd.options.mode.chained_assignment = None\n",
    "\n",
    "# Load data\n",
    "data = pd.read_csv('data/diabetes.csv')"
   ]
  },
  {
   "cell_type": "code",
   "execution_count": 47,
   "metadata": {},
   "outputs": [],
   "source": [
    "# Clean data\n",
    "clean_data = data.copy()\n",
    "\n",
    "# Drop all na values\n",
    "rows_to_remove = []\n",
    "for i in range(len(clean_data)):\n",
    "    if clean_data.iloc[i].isna().sum() > 0:\n",
    "        rows_to_remove.append(i)\n",
    "clean_data = clean_data.drop(index=rows_to_remove)\n",
    "\n",
    "# Convert categorical data to dummy variables: N/A"
   ]
  },
  {
   "cell_type": "code",
   "execution_count": 48,
   "metadata": {},
   "outputs": [],
   "source": [
    "# Generate training and testing set: 25%\n",
    "X = clean_data.copy().drop(columns=['Outcome'])\n",
    "y = clean_data.copy()['Outcome']\n",
    "X_train, X_test, y_train, y_test = train_test_split(X, y, test_size=0.25, random_state=0)"
   ]
  },
  {
   "cell_type": "code",
   "execution_count": 49,
   "metadata": {},
   "outputs": [
    {
     "name": "stdout",
     "output_type": "stream",
     "text": [
      "Cs hyperparameter: 10\n"
     ]
    }
   ],
   "source": [
    "# Pass through LogisticRegressionCV\n",
    "log_reg_cv = LogisticRegressionCV(cv=5, random_state=0, max_iter=200).fit(X_train, y_train)\n",
    "\n",
    "# Form predictions\n",
    "predictions = log_reg_cv.predict(X_test)\n",
    "\n",
    "# Show Cs hyperparameter\n",
    "print(f'Cs hyperparameter: {log_reg_cv.Cs}')"
   ]
  },
  {
   "cell_type": "code",
   "execution_count": 50,
   "metadata": {},
   "outputs": [
    {
     "name": "stdout",
     "output_type": "stream",
     "text": [
      "Sensitivity: 0.5806451612903226\n",
      "Specificity: 0.9076923076923077\n",
      "MCC: 0.5273339157746447\n"
     ]
    }
   ],
   "source": [
    "# Form confusion matrix\n",
    "conf_mat = confusion_matrix(y_test, predictions)\n",
    "tn, fp, fn, tp = confusion_matrix(y_test, predictions).ravel()\n",
    "\n",
    "print(f'Sensitivity: {tp/(tp+fn)}')\n",
    "print(f'Specificity: {tn/(tn+fp)}')\n",
    "print(f'MCC: {matthews_corrcoef(y_test, predictions)}')"
   ]
  }
 ],
 "metadata": {
  "kernelspec": {
   "display_name": "Python 3.9.7 64-bit",
   "language": "python",
   "name": "python3"
  },
  "language_info": {
   "codemirror_mode": {
    "name": "ipython",
    "version": 3
   },
   "file_extension": ".py",
   "mimetype": "text/x-python",
   "name": "python",
   "nbconvert_exporter": "python",
   "pygments_lexer": "ipython3",
   "version": "3.9.7"
  },
  "orig_nbformat": 4,
  "vscode": {
   "interpreter": {
    "hash": "aee8b7b246df8f9039afb4144a1f6fd8d2ca17a180786b69acc140d282b71a49"
   }
  }
 },
 "nbformat": 4,
 "nbformat_minor": 2
}
